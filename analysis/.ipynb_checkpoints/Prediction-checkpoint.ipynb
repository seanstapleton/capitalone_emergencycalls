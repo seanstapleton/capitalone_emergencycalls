{
 "cells": [
  {
   "cell_type": "code",
   "execution_count": 1,
   "metadata": {},
   "outputs": [],
   "source": [
    "import pandas as pd\n",
    "import numpy as np\n",
    "import sklearn\n",
    "import matplotlib.pyplot as plt"
   ]
  },
  {
   "cell_type": "code",
   "execution_count": 2,
   "metadata": {},
   "outputs": [],
   "source": [
    "#load in data from CSV file\n",
    "df_all = pd.read_csv(\"./data/sfpd_dispatch_data_subset.csv\")\n",
    "num_rows = df_all.shape[0]\n",
    "#convert string timestamp to pandas Timeframe\n",
    "df_all[\"received_timestamp\"] = pd.to_datetime(df_all[\"received_timestamp\"])"
   ]
  },
  {
   "cell_type": "code",
   "execution_count": 3,
   "metadata": {},
   "outputs": [],
   "source": [
    "#remove columns with null values\n",
    "counter_nan = df_all.isnull().sum()\n",
    "counter_no_nan = counter_nan[counter_nan==0]"
   ]
  },
  {
   "cell_type": "code",
   "execution_count": 4,
   "metadata": {},
   "outputs": [
    {
     "data": {
      "text/plain": [
       "array(['call_number', 'unit_id', 'incident_number', 'call_type',\n",
       "       'call_date', 'watch_date', 'received_timestamp', 'entry_timestamp',\n",
       "       'dispatch_timestamp', 'call_final_disposition',\n",
       "       'available_timestamp', 'address', 'zipcode_of_incident',\n",
       "       'battalion', 'station_area', 'box', 'original_priority',\n",
       "       'priority', 'final_priority', 'als_unit', 'number_of_alarms',\n",
       "       'unit_type', 'unit_sequence_in_call_dispatch',\n",
       "       'fire_prevention_district', 'supervisor_district', 'location',\n",
       "       'row_id', 'latitude', 'longitude', 'x', 'y', 'z'], dtype=object)"
      ]
     },
     "execution_count": 4,
     "metadata": {},
     "output_type": "execute_result"
    }
   ],
   "source": [
    "df_cleaned = df_all[counter_no_nan.keys()]\n",
    "kept_keys = counter_no_nan.keys().values\n",
    "kept_keys"
   ]
  },
  {
   "cell_type": "code",
   "execution_count": 57,
   "metadata": {},
   "outputs": [
    {
     "ename": "KeyError",
     "evalue": "\"['received_timestamp' 'unit_type'] not in index\"",
     "output_type": "error",
     "traceback": [
      "\u001b[0;31m---------------------------------------------------------------------------\u001b[0m",
      "\u001b[0;31mKeyError\u001b[0m                                  Traceback (most recent call last)",
      "\u001b[0;32m<ipython-input-57-b0269117d9a8>\u001b[0m in \u001b[0;36m<module>\u001b[0;34m()\u001b[0m\n\u001b[1;32m      1\u001b[0m \u001b[0mkept_keys\u001b[0m \u001b[0;34m=\u001b[0m \u001b[0;34m[\u001b[0m\u001b[0;34m'received_timestamp'\u001b[0m\u001b[0;34m,\u001b[0m\u001b[0;34m'zipcode_of_incident'\u001b[0m\u001b[0;34m,\u001b[0m \u001b[0;34m'unit_type'\u001b[0m\u001b[0;34m]\u001b[0m\u001b[0;34m\u001b[0m\u001b[0m\n\u001b[0;32m----> 2\u001b[0;31m \u001b[0mdf_cleaned\u001b[0m \u001b[0;34m=\u001b[0m \u001b[0mdf_cleaned\u001b[0m\u001b[0;34m[\u001b[0m\u001b[0mkept_keys\u001b[0m\u001b[0;34m]\u001b[0m\u001b[0;34m\u001b[0m\u001b[0m\n\u001b[0m",
      "\u001b[0;32m/usr/local/Cellar/python3/3.6.3/Frameworks/Python.framework/Versions/3.6/lib/python3.6/site-packages/pandas/core/frame.py\u001b[0m in \u001b[0;36m__getitem__\u001b[0;34m(self, key)\u001b[0m\n\u001b[1;32m   2131\u001b[0m         \u001b[0;32mif\u001b[0m \u001b[0misinstance\u001b[0m\u001b[0;34m(\u001b[0m\u001b[0mkey\u001b[0m\u001b[0;34m,\u001b[0m \u001b[0;34m(\u001b[0m\u001b[0mSeries\u001b[0m\u001b[0;34m,\u001b[0m \u001b[0mnp\u001b[0m\u001b[0;34m.\u001b[0m\u001b[0mndarray\u001b[0m\u001b[0;34m,\u001b[0m \u001b[0mIndex\u001b[0m\u001b[0;34m,\u001b[0m \u001b[0mlist\u001b[0m\u001b[0;34m)\u001b[0m\u001b[0;34m)\u001b[0m\u001b[0;34m:\u001b[0m\u001b[0;34m\u001b[0m\u001b[0m\n\u001b[1;32m   2132\u001b[0m             \u001b[0;31m# either boolean or fancy integer index\u001b[0m\u001b[0;34m\u001b[0m\u001b[0;34m\u001b[0m\u001b[0m\n\u001b[0;32m-> 2133\u001b[0;31m             \u001b[0;32mreturn\u001b[0m \u001b[0mself\u001b[0m\u001b[0;34m.\u001b[0m\u001b[0m_getitem_array\u001b[0m\u001b[0;34m(\u001b[0m\u001b[0mkey\u001b[0m\u001b[0;34m)\u001b[0m\u001b[0;34m\u001b[0m\u001b[0m\n\u001b[0m\u001b[1;32m   2134\u001b[0m         \u001b[0;32melif\u001b[0m \u001b[0misinstance\u001b[0m\u001b[0;34m(\u001b[0m\u001b[0mkey\u001b[0m\u001b[0;34m,\u001b[0m \u001b[0mDataFrame\u001b[0m\u001b[0;34m)\u001b[0m\u001b[0;34m:\u001b[0m\u001b[0;34m\u001b[0m\u001b[0m\n\u001b[1;32m   2135\u001b[0m             \u001b[0;32mreturn\u001b[0m \u001b[0mself\u001b[0m\u001b[0;34m.\u001b[0m\u001b[0m_getitem_frame\u001b[0m\u001b[0;34m(\u001b[0m\u001b[0mkey\u001b[0m\u001b[0;34m)\u001b[0m\u001b[0;34m\u001b[0m\u001b[0m\n",
      "\u001b[0;32m/usr/local/Cellar/python3/3.6.3/Frameworks/Python.framework/Versions/3.6/lib/python3.6/site-packages/pandas/core/frame.py\u001b[0m in \u001b[0;36m_getitem_array\u001b[0;34m(self, key)\u001b[0m\n\u001b[1;32m   2175\u001b[0m             \u001b[0;32mreturn\u001b[0m \u001b[0mself\u001b[0m\u001b[0;34m.\u001b[0m\u001b[0m_take\u001b[0m\u001b[0;34m(\u001b[0m\u001b[0mindexer\u001b[0m\u001b[0;34m,\u001b[0m \u001b[0maxis\u001b[0m\u001b[0;34m=\u001b[0m\u001b[0;36m0\u001b[0m\u001b[0;34m,\u001b[0m \u001b[0mconvert\u001b[0m\u001b[0;34m=\u001b[0m\u001b[0;32mFalse\u001b[0m\u001b[0;34m)\u001b[0m\u001b[0;34m\u001b[0m\u001b[0m\n\u001b[1;32m   2176\u001b[0m         \u001b[0;32melse\u001b[0m\u001b[0;34m:\u001b[0m\u001b[0;34m\u001b[0m\u001b[0m\n\u001b[0;32m-> 2177\u001b[0;31m             \u001b[0mindexer\u001b[0m \u001b[0;34m=\u001b[0m \u001b[0mself\u001b[0m\u001b[0;34m.\u001b[0m\u001b[0mloc\u001b[0m\u001b[0;34m.\u001b[0m\u001b[0m_convert_to_indexer\u001b[0m\u001b[0;34m(\u001b[0m\u001b[0mkey\u001b[0m\u001b[0;34m,\u001b[0m \u001b[0maxis\u001b[0m\u001b[0;34m=\u001b[0m\u001b[0;36m1\u001b[0m\u001b[0;34m)\u001b[0m\u001b[0;34m\u001b[0m\u001b[0m\n\u001b[0m\u001b[1;32m   2178\u001b[0m             \u001b[0;32mreturn\u001b[0m \u001b[0mself\u001b[0m\u001b[0;34m.\u001b[0m\u001b[0m_take\u001b[0m\u001b[0;34m(\u001b[0m\u001b[0mindexer\u001b[0m\u001b[0;34m,\u001b[0m \u001b[0maxis\u001b[0m\u001b[0;34m=\u001b[0m\u001b[0;36m1\u001b[0m\u001b[0;34m,\u001b[0m \u001b[0mconvert\u001b[0m\u001b[0;34m=\u001b[0m\u001b[0;32mTrue\u001b[0m\u001b[0;34m)\u001b[0m\u001b[0;34m\u001b[0m\u001b[0m\n\u001b[1;32m   2179\u001b[0m \u001b[0;34m\u001b[0m\u001b[0m\n",
      "\u001b[0;32m/usr/local/Cellar/python3/3.6.3/Frameworks/Python.framework/Versions/3.6/lib/python3.6/site-packages/pandas/core/indexing.py\u001b[0m in \u001b[0;36m_convert_to_indexer\u001b[0;34m(self, obj, axis, is_setter)\u001b[0m\n\u001b[1;32m   1267\u001b[0m                 \u001b[0;32mif\u001b[0m \u001b[0mmask\u001b[0m\u001b[0;34m.\u001b[0m\u001b[0many\u001b[0m\u001b[0;34m(\u001b[0m\u001b[0;34m)\u001b[0m\u001b[0;34m:\u001b[0m\u001b[0;34m\u001b[0m\u001b[0m\n\u001b[1;32m   1268\u001b[0m                     raise KeyError('{mask} not in index'\n\u001b[0;32m-> 1269\u001b[0;31m                                    .format(mask=objarr[mask]))\n\u001b[0m\u001b[1;32m   1270\u001b[0m \u001b[0;34m\u001b[0m\u001b[0m\n\u001b[1;32m   1271\u001b[0m                 \u001b[0;32mreturn\u001b[0m \u001b[0m_values_from_object\u001b[0m\u001b[0;34m(\u001b[0m\u001b[0mindexer\u001b[0m\u001b[0;34m)\u001b[0m\u001b[0;34m\u001b[0m\u001b[0m\n",
      "\u001b[0;31mKeyError\u001b[0m: \"['received_timestamp' 'unit_type'] not in index\""
     ]
    }
   ],
   "source": [
    "kept_keys = ['received_timestamp','zipcode_of_incident', 'unit_type']\n",
    "df_cleaned = df_cleaned[kept_keys]"
   ]
  },
  {
   "cell_type": "code",
   "execution_count": null,
   "metadata": {},
   "outputs": [],
   "source": []
  },
  {
   "cell_type": "code",
   "execution_count": 7,
   "metadata": {},
   "outputs": [],
   "source": [
    "#extract hour, day, dotw from timestamp\n",
    "columns_to_extract = [\"received_timestamp\"]\n",
    "full_df = pd.DataFrame()\n",
    "for c in columns_to_extract:\n",
    "    new_data = []\n",
    "    for timestamp in df_cleaned[c]:\n",
    "        keys = [\"date_\"+c[:3], \"hour_\"+c[:3], \"dow_\"+c[:3]]\n",
    "        new_data.append({keys[0]: timestamp.day, keys[1]: timestamp.hour, keys[2]: timestamp.dayofweek});\n",
    "    new_df = pd.DataFrame(new_data)\n",
    "    full_df = new_df.join(full_df, rsuffix='_next')\n",
    "    df_cleaned = df_cleaned.drop(c, axis=1)\n",
    "df_cleaned = df_cleaned.join(full_df, rsuffix=\"_next\")"
   ]
  },
  {
   "cell_type": "markdown",
   "metadata": {},
   "source": []
  },
  {
   "cell_type": "code",
   "execution_count": 9,
   "metadata": {},
   "outputs": [],
   "source": [
    "call_type_mapping = {\n",
    "    'Alarms': 0,\n",
    "    'Citizen Assist / Service Call': 1,\n",
    "    'Electrical Hazard': 2,\n",
    "    'Elevator / Escalator Rescue': 3,\n",
    "    'Fuel Spill': 4,\n",
    "    'Gas Leak (Natural and LP Gases)': 5,\n",
    "    'HazMat': 6,\n",
    "    'Medical Incident': 7,\n",
    "    'Odor (Strange / Unknown)': 8,\n",
    "    'Other': 9,\n",
    "    'Outside Fire': 10,\n",
    "    'Smoke Investigation (Outside)': 11,\n",
    "    'Structure Fire': 12,\n",
    "    'Traffic Collision': 13,\n",
    "    'Train / Rail Incident': 14,\n",
    "    'Vehicle Fire': 15,\n",
    "    'Water Rescue': 16    \n",
    "}\n",
    "unit_type_mapping = {\n",
    "    'CHIEF': 0,\n",
    "    'ENGINE': 1,\n",
    "    'INVESTIGATION': 2,\n",
    "    'MEDIC': 3,\n",
    "    'PRIVATE': 4,\n",
    "    'RESCUE CAPTAIN': 5,\n",
    "    'RESCUE SQUAD': 6,\n",
    "    'SUPPORT': 7,\n",
    "    'TRUCK': 8\n",
    "}\n",
    "fdisp = {\n",
    "    'Against Medical Advice': 0,\n",
    "    'Cancelled': 1,\n",
    "    'Code 2 Transport': 2,\n",
    "    'Code 3 Transport': 3,\n",
    "    'Fire': 4,\n",
    "    'Gone on Arrival': 5,\n",
    "    'Medical Examiner': 6,\n",
    "    'No Merit': 7,\n",
    "    'Other': 8,\n",
    "    'Patient Declined Transport': 9,\n",
    "    'SFPD': 10,\n",
    "    'Unable to Locate': 11\n",
    "}\n",
    "boolean_map = {\n",
    "    'False': 0,\n",
    "    'True': 1\n",
    "}\n",
    "battalion_mapping = {\n",
    "    'B01': 0,\n",
    "    'B02': 1,\n",
    "    'B03': 2,\n",
    "    'B04': 3,\n",
    "    'B05': 4,\n",
    "    'B06': 5,\n",
    "    'B07': 6,\n",
    "    'B08': 7,\n",
    "    'B09': 8,\n",
    "    'B10': 9,\n",
    "    'B99': 10\n",
    "}"
   ]
  },
  {
   "cell_type": "code",
   "execution_count": 10,
   "metadata": {},
   "outputs": [],
   "source": [
    "df_cleaned = df_cleaned.replace({'unit_type': unit_type_mapping})\n",
    "y_data = df_cleaned['unit_type']\n",
    "df_cleaned = df_cleaned.drop('unit_type', axis=1)"
   ]
  },
  {
   "cell_type": "code",
   "execution_count": null,
   "metadata": {},
   "outputs": [],
   "source": [
    "# df_onehot = df_cleaned\n",
    "# onehots = ['unit_id', 'call_type', 'call_final_disposition', 'battalion', 'station_area']\n",
    "# for i in onehots:\n",
    "#     onehot = pd.get_dummies(df_onehot[i])\n",
    "#     df_onehot = df_onehot.drop(i, axis=1)\n",
    "#     df_onehot = df_onehot.join(onehot, rsuffix='_right')"
   ]
  },
  {
   "cell_type": "code",
   "execution_count": null,
   "metadata": {},
   "outputs": [],
   "source": []
  },
  {
   "cell_type": "code",
   "execution_count": null,
   "metadata": {},
   "outputs": [],
   "source": []
  },
  {
   "cell_type": "code",
   "execution_count": null,
   "metadata": {},
   "outputs": [],
   "source": []
  },
  {
   "cell_type": "code",
   "execution_count": null,
   "metadata": {},
   "outputs": [],
   "source": []
  },
  {
   "cell_type": "code",
   "execution_count": null,
   "metadata": {},
   "outputs": [],
   "source": []
  },
  {
   "cell_type": "code",
   "execution_count": null,
   "metadata": {},
   "outputs": [],
   "source": []
  },
  {
   "cell_type": "code",
   "execution_count": null,
   "metadata": {},
   "outputs": [],
   "source": []
  },
  {
   "cell_type": "code",
   "execution_count": 15,
   "metadata": {},
   "outputs": [],
   "source": [
    "#map dispatch frequencies to zip codes\n",
    "df_wy.loc[df_wy['zipcode_of_incident'] == 94122]\n",
    "zipcodes = ['94121','94103','94122','94109','94107','94110','94102','94133','94134','94111','94114','94131','94117','94112','94118','94158','94105','94115','94108','94124','94104','94116','94123','94127','94132','94130','94129']\n",
    "for zcode in zipcodes:\n",
    "    vals = df_wy.loc[df_wy['zipcode_of_incident'] == int(zcode)]\n",
    "    frequencies = np.bincount(vals['unit_type'].values)\n",
    "    for idx,ut in enumerate(frequencies):\n",
    "        zipcode_mapping[zcode][\"unit_\"+str(idx)+\"_freq\"] = ut"
   ]
  },
  {
   "cell_type": "code",
   "execution_count": 39,
   "metadata": {},
   "outputs": [],
   "source": []
  },
  {
   "cell_type": "code",
   "execution_count": 40,
   "metadata": {},
   "outputs": [],
   "source": []
  },
  {
   "cell_type": "code",
   "execution_count": null,
   "metadata": {},
   "outputs": [],
   "source": []
  },
  {
   "cell_type": "code",
   "execution_count": 58,
   "metadata": {},
   "outputs": [],
   "source": [
    "#map zip code to demographic data (data found at http://www.city-data.com/)\n",
    "zipcode_mapping = {\n",
    "    '94121': {'pop': 43332, 'houses': 19311, 'renters': 10397, 'col': 163, 'land': 3.1, 'dens': 14061},\n",
    "    '94103': {'pop': 26116, 'houses': 15685, 'renters': 11657, 'col': 167.8, 'land': 1.4, 'dens': 19259},\n",
    "    '94122': {'pop': 62918, 'houses': 24615, 'renters': 12231, 'col': 156.3, 'land': 2.4, 'dens': 26616},\n",
    "    '94109': {'pop': 56822, 'houses': 37688, 'renters': 29105, 'col': 161.6, 'land': 1.2, 'dens': 47834},\n",
    "    '94107': {'pop': 29805, 'houses': 15569, 'renters': 8463, 'col': 152.7, 'land': 1.8, 'dens': 16634},\n",
    "    '94110': {'pop': 74565, 'houses': 30262, 'renters': 18788, 'col': 155.3, 'land': 2.3, 'dens': 32066},\n",
    "    '94102': {'pop': 29739, 'houses': 19561, 'renters': 16005, 'col': 181.8, 'land': 0.7, 'dens': 44330},\n",
    "    '94133': {'pop': 27885, 'houses': 14941, 'renters': 11182, 'col': 178.0, 'land': 0.8, 'dens': 36931},\n",
    "    '94134': {'pop': 42274, 'houses': 12699, 'renters': 4962, 'col': 155.2, 'land': 2.4, 'dens': 17616},\n",
    "    '94111': {'pop': 3481, 'houses': 2626, 'renters': 1593, 'col': 158.4, 'land': 0.3, 'dens': 10116},\n",
    "    '94114': {'pop': 33984, 'houses': 18228, 'renters': 9073, 'col': 156.5, 'land': 1.4, 'dens': 23843},\n",
    "    '94131': {'pop': 28756, 'houses': 13952, 'renters': 6050, 'col': 157.2, 'land': 2.1, 'dens': 13828},\n",
    "    '94117': {'pop': 43944, 'houses': 20017, 'renters': 13447, 'col': 156.4, 'land': 1.7, 'dens': 26041},\n",
    "    '94112': {'pop': 85205, 'houses': 24570, 'renters': 8694, 'col': 154.3, 'land': 3.4, 'dens': 25329},\n",
    "    '94118': {'pop': 42259, 'houses': 19115, 'renters': 12358, 'col': 164.4, 'land': 1.9, 'dens': 21685},\n",
    "    '94158': {'pop': 6080, 'houses': 3629, 'renters': 2530, 'col': 139.0, 'land': 0.7, 'dens': 9247},\n",
    "    '94105': {'pop': 6890, 'houses': 5258, 'renters': 2108, 'col': 151.8, 'land': 0.4, 'dens': 18652},\n",
    "    '94115': {'pop': 35178, 'houses': 19430, 'renters': 13333, 'col': 160.7, 'land': 1.1, 'dens': 31529},\n",
    "    '94108': {'pop': 14914, 'houses': 8997, 'renters': 7446, 'col': 175.6, 'land': 0.3, 'dens': 55226},\n",
    "    '94124': {'pop': 35954, 'houses': 11430, 'renters': 5230, 'col': 155.9, 'land': 4.9, 'dens': 7298},\n",
    "    '94104': {'pop': 496, 'houses': 360, 'renters': 255, 'col': 197.8, 'land': 0.1, 'dens': 6392},\n",
    "    '94116': {'pop': 46594, 'houses': 16851, 'renters': 5736, 'col': 156.9, 'land': 2.6, 'dens': 18021},\n",
    "    '94123': {'pop': 25600, 'houses': 15429, 'renters': 10665, 'col': 162.7, 'land': 1.0, 'dens': 25083},\n",
    "    '94127': {'pop': 10960, 'houses': 8077, 'renters': 1491, 'col': 156.2, 'land': 1.8, 'dens': 11839},\n",
    "    '94132': {'pop': 31737, 'houses': 11028, 'renters': 5998, 'col': 162.6, 'land': 3.1, 'dens': 10205},\n",
    "    '94130': {'pop': 3134, 'houses': 778, 'renters': 647, 'col': 144.2, 'land': 0.9, 'dens': 3405},\n",
    "    '94129': {'pop': 3815, 'houses': 1364, 'renters': 1288, 'col': 149.4, 'land': 2.3, 'dens': 1655},\n",
    "    '0': {'pop': 0, 'houses': 0, 'renters': 0, 'col': 0, 'land': 0, 'dens': 0}\n",
    "}"
   ]
  },
  {
   "cell_type": "code",
   "execution_count": 17,
   "metadata": {},
   "outputs": [],
   "source": [
    "#map lat/long to region data\n",
    "full_df = pd.DataFrame()\n",
    "new_data = []\n",
    "for zipcode in df_cleaned[\"zipcode_of_incident\"]:\n",
    "    if str(zipcode) in zipcode_mapping:\n",
    "        new_data.append(zipcode_mapping[str(zipcode)])\n",
    "    else:\n",
    "        new_data.append(zipcode_mapping['0'])"
   ]
  },
  {
   "cell_type": "markdown",
   "metadata": {},
   "source": []
  },
  {
   "cell_type": "code",
   "execution_count": 21,
   "metadata": {},
   "outputs": [],
   "source": []
  },
  {
   "cell_type": "code",
   "execution_count": 23,
   "metadata": {},
   "outputs": [],
   "source": []
  },
  {
   "cell_type": "code",
   "execution_count": 28,
   "metadata": {},
   "outputs": [],
   "source": []
  },
  {
   "cell_type": "code",
   "execution_count": null,
   "metadata": {},
   "outputs": [],
   "source": []
  },
  {
   "cell_type": "code",
   "execution_count": 49,
   "metadata": {},
   "outputs": [],
   "source": [
    "# df_new.to_json(orient='records', path_or_buf='../routes/data/zipcode_search.json')\n",
    "df_new_y.to_csv(path_or_buf='../routes/data/zipcode_search.csv')"
   ]
  },
  {
   "cell_type": "code",
   "execution_count": 51,
   "metadata": {},
   "outputs": [
    {
     "name": "stderr",
     "output_type": "stream",
     "text": [
      "/usr/local/Cellar/python3/3.6.3/Frameworks/Python.framework/Versions/3.6/lib/python3.6/site-packages/sklearn/cross_validation.py:41: DeprecationWarning: This module was deprecated in version 0.18 in favor of the model_selection module into which all the refactored classes and functions are moved. Also note that the interface of the new CV iterators are different from that of this module. This module will be removed in 0.20.\n",
      "  \"This module will be removed in 0.20.\", DeprecationWarning)\n",
      "/usr/local/Cellar/python3/3.6.3/Frameworks/Python.framework/Versions/3.6/lib/python3.6/site-packages/sklearn/utils/validation.py:475: DataConversionWarning: Data with input dtype int64 was converted to float64 by StandardScaler.\n",
      "  warnings.warn(msg, DataConversionWarning)\n"
     ]
    }
   ],
   "source": [
    "from sklearn.cross_validation import train_test_split\n",
    "from sklearn.preprocessing import StandardScaler\n",
    "x_data = df_cleaned.loc[:,:].values\n",
    "sscaler = StandardScaler()\n",
    "x_std= sscaler.fit_transform(x_data)\n",
    "x_train, x_test, y_train, y_test = train_test_split(x_data, y_data)"
   ]
  },
  {
   "cell_type": "code",
   "execution_count": 52,
   "metadata": {},
   "outputs": [
    {
     "data": {
      "text/plain": [
       "MLPClassifier(activation='relu', alpha=1e-05, batch_size='auto', beta_1=0.9,\n",
       "       beta_2=0.999, early_stopping=False, epsilon=1e-08,\n",
       "       hidden_layer_sizes=(40, 50, 50, 20), learning_rate='constant',\n",
       "       learning_rate_init=0.001, max_iter=200, momentum=0.9,\n",
       "       nesterovs_momentum=True, power_t=0.5, random_state=None,\n",
       "       shuffle=True, solver='lbfgs', tol=0.0001, validation_fraction=0.1,\n",
       "       verbose=False, warm_start=False)"
      ]
     },
     "execution_count": 52,
     "metadata": {},
     "output_type": "execute_result"
    }
   ],
   "source": [
    "from sklearn.neural_network import MLPClassifier\n",
    "clf = MLPClassifier(solver='lbfgs', alpha=1e-5, hidden_layer_sizes=(40, 50, 50, 20))\n",
    "clf.fit(x_train,y_train)"
   ]
  },
  {
   "cell_type": "code",
   "execution_count": 55,
   "metadata": {},
   "outputs": [],
   "source": [
    "predictions = clf.predict(x_test)"
   ]
  },
  {
   "cell_type": "code",
   "execution_count": 56,
   "metadata": {},
   "outputs": [
    {
     "data": {
      "text/plain": [
       "0.0228"
      ]
     },
     "execution_count": 56,
     "metadata": {},
     "output_type": "execute_result"
    }
   ],
   "source": [
    "from sklearn.metrics import accuracy_score\n",
    "accuracy_score(predictions, y_test)"
   ]
  },
  {
   "cell_type": "code",
   "execution_count": 50,
   "metadata": {},
   "outputs": [
    {
     "ename": "NameError",
     "evalue": "name 'x_train' is not defined",
     "output_type": "error",
     "traceback": [
      "\u001b[0;31m---------------------------------------------------------------------------\u001b[0m",
      "\u001b[0;31mNameError\u001b[0m                                 Traceback (most recent call last)",
      "\u001b[0;32m<ipython-input-50-08c262fd8e00>\u001b[0m in \u001b[0;36m<module>\u001b[0;34m()\u001b[0m\n\u001b[1;32m      1\u001b[0m \u001b[0;32mfrom\u001b[0m \u001b[0msklearn\u001b[0m\u001b[0;34m.\u001b[0m\u001b[0mensemble\u001b[0m \u001b[0;32mimport\u001b[0m \u001b[0mRandomForestClassifier\u001b[0m\u001b[0;34m\u001b[0m\u001b[0m\n\u001b[1;32m      2\u001b[0m \u001b[0mclf\u001b[0m \u001b[0;34m=\u001b[0m \u001b[0mRandomForestClassifier\u001b[0m\u001b[0;34m(\u001b[0m\u001b[0mmax_depth\u001b[0m\u001b[0;34m=\u001b[0m\u001b[0;36m50\u001b[0m\u001b[0;34m)\u001b[0m\u001b[0;34m\u001b[0m\u001b[0m\n\u001b[0;32m----> 3\u001b[0;31m \u001b[0mclf\u001b[0m\u001b[0;34m.\u001b[0m\u001b[0mfit\u001b[0m\u001b[0;34m(\u001b[0m\u001b[0mx_train\u001b[0m\u001b[0;34m,\u001b[0m \u001b[0my_train\u001b[0m\u001b[0;34m)\u001b[0m\u001b[0;34m\u001b[0m\u001b[0m\n\u001b[0m",
      "\u001b[0;31mNameError\u001b[0m: name 'x_train' is not defined"
     ]
    }
   ],
   "source": [
    "from sklearn.ensemble import RandomForestClassifier\n",
    "clf = RandomForestClassifier(max_depth=50)\n",
    "clf.fit(x_train, y_train)"
   ]
  },
  {
   "cell_type": "code",
   "execution_count": null,
   "metadata": {},
   "outputs": [],
   "source": [
    "predictions = clf.predict(x_test)"
   ]
  },
  {
   "cell_type": "code",
   "execution_count": null,
   "metadata": {},
   "outputs": [],
   "source": [
    "accuracy_score(predictions, y_test)"
   ]
  },
  {
   "cell_type": "code",
   "execution_count": null,
   "metadata": {},
   "outputs": [],
   "source": [
    "from sklearn.linear_model import SGDClassifier\n",
    "clf = SGDClassifier()\n",
    "clf.fit(x_train,y_train)"
   ]
  },
  {
   "cell_type": "code",
   "execution_count": null,
   "metadata": {},
   "outputs": [],
   "source": [
    "predictions = clf.predict(x_test)\n",
    "accuracy_score(predictions, y_test)"
   ]
  },
  {
   "cell_type": "code",
   "execution_count": null,
   "metadata": {},
   "outputs": [],
   "source": []
  }
 ],
 "metadata": {
  "kernelspec": {
   "display_name": "Python 3",
   "language": "python",
   "name": "python3"
  },
  "language_info": {
   "codemirror_mode": {
    "name": "ipython",
    "version": 3
   },
   "file_extension": ".py",
   "mimetype": "text/x-python",
   "name": "python",
   "nbconvert_exporter": "python",
   "pygments_lexer": "ipython3",
   "version": "3.6.3"
  }
 },
 "nbformat": 4,
 "nbformat_minor": 2
}
