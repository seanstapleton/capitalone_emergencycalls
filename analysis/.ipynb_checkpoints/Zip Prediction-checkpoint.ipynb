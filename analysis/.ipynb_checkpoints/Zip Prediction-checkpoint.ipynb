{
 "cells": [
  {
   "cell_type": "code",
   "execution_count": 1,
   "metadata": {},
   "outputs": [
    {
     "name": "stderr",
     "output_type": "stream",
     "text": [
      "/usr/local/Cellar/python3/3.6.3/Frameworks/Python.framework/Versions/3.6/lib/python3.6/site-packages/sklearn/cross_validation.py:41: DeprecationWarning: This module was deprecated in version 0.18 in favor of the model_selection module into which all the refactored classes and functions are moved. Also note that the interface of the new CV iterators are different from that of this module. This module will be removed in 0.20.\n",
      "  \"This module will be removed in 0.20.\", DeprecationWarning)\n"
     ]
    }
   ],
   "source": [
    "import pandas as pd\n",
    "import numpy as np\n",
    "import sklearn\n",
    "import matplotlib.pyplot as plt\n",
    "from sklearn.cross_validation import train_test_split\n",
    "from sklearn.preprocessing import StandardScaler\n",
    "from sklearn.neural_network import MLPClassifier\n",
    "from sklearn.metrics import accuracy_score\n",
    "from sklearn.ensemble import RandomForestClassifier\n",
    "from sklearn.linear_model import SGDClassifier"
   ]
  },
  {
   "cell_type": "code",
   "execution_count": 2,
   "metadata": {},
   "outputs": [],
   "source": [
    "#map zip code to demographic data\n",
    "zipcode_mapping = {\n",
    "    '94121': {'pop': 43332, 'houses': 19311, 'col': 163, 'dens': 14061},\n",
    "    '94103': {'pop': 26116, 'houses': 15685, 'col': 167.8, 'dens': 19259},\n",
    "    '94122': {'pop': 62918, 'houses': 24615, 'col': 156.3, 'dens': 26616},\n",
    "    '94109': {'pop': 56822, 'houses': 37688, 'col': 161.6, 'dens': 47834},\n",
    "    '94107': {'pop': 29805, 'houses': 15569, 'col': 152.7, 'dens': 16634},\n",
    "    '94110': {'pop': 74565, 'houses': 30262, 'col': 155.3, 'dens': 32066},\n",
    "    '94102': {'pop': 29739, 'houses': 19561, 'col': 181.8, 'dens': 44330},\n",
    "    '94133': {'pop': 27885, 'houses': 14941, 'col': 178.0, 'dens': 36931},\n",
    "    '94134': {'pop': 42274, 'houses': 12699, 'col': 155.2, 'dens': 17616},\n",
    "    '94111': {'pop': 3481, 'houses': 2626, 'col': 158.4, 'dens': 10116},\n",
    "    '94114': {'pop': 33984, 'houses': 18228, 'col': 156.5, 'dens': 23843},\n",
    "    '94131': {'pop': 28756, 'houses': 13952, 'col': 157.2, 'dens': 13828},\n",
    "    '94117': {'pop': 43944, 'houses': 20017, 'col': 156.4, 'dens': 26041},\n",
    "    '94112': {'pop': 85205, 'houses': 24570, 'col': 154.3, 'dens': 25329},\n",
    "    '94118': {'pop': 42259, 'houses': 19115, 'col': 164.4, 'dens': 21685},\n",
    "    '94158': {'pop': 6080, 'houses': 3629, 'col': 139.0, 'dens': 9247},\n",
    "    '94105': {'pop': 6890, 'houses': 5258, 'col': 151.8, 'dens': 18652},\n",
    "    '94115': {'pop': 35178, 'houses': 19430, 'col': 160.7, 'dens': 31529},\n",
    "    '94108': {'pop': 14914, 'houses': 8997, 'col': 175.6, 'dens': 55226},\n",
    "    '94124': {'pop': 35954, 'houses': 11430, 'col': 155.9, 'dens': 7298},\n",
    "    '94104': {'pop': 496, 'houses': 360, 'col': 197.8, 'dens': 6392},\n",
    "    '94116': {'pop': 46594, 'houses': 16851, 'col': 156.9, 'dens': 18021},\n",
    "    '94123': {'pop': 25600, 'houses': 15429, 'col': 162.7, 'dens': 25083},\n",
    "    '94127': {'pop': 10960, 'houses': 8077, 'col': 156.2, 'dens': 11839},\n",
    "    '94132': {'pop': 31737, 'houses': 11028, 'col': 162.6, 'dens': 10205},\n",
    "    '94130': {'pop': 3134, 'houses': 778, 'col': 144.2, 'dens': 3405},\n",
    "    '94129': {'pop': 3815, 'houses': 1364, 'col': 149.4, 'dens': 1655},\n",
    "    '0': {'pop': 0, 'houses': 0, 'col': 0, 'dens': 0}\n",
    "}"
   ]
  },
  {
   "cell_type": "code",
   "execution_count": 4,
   "metadata": {},
   "outputs": [
    {
     "ename": "IndexError",
     "evalue": "list index out of range",
     "output_type": "error",
     "traceback": [
      "\u001b[0;31m---------------------------------------------------------------------------\u001b[0m",
      "\u001b[0;31mIndexError\u001b[0m                                Traceback (most recent call last)",
      "\u001b[0;32m<ipython-input-4-4d04e34f34bc>\u001b[0m in \u001b[0;36m<module>\u001b[0;34m()\u001b[0m\n\u001b[1;32m      2\u001b[0m \u001b[0mzipcode\u001b[0m \u001b[0;34m=\u001b[0m \u001b[0msys\u001b[0m\u001b[0;34m.\u001b[0m\u001b[0margv\u001b[0m\u001b[0;34m[\u001b[0m\u001b[0;36m1\u001b[0m\u001b[0;34m]\u001b[0m\u001b[0;34m\u001b[0m\u001b[0m\n\u001b[1;32m      3\u001b[0m \u001b[0mhour\u001b[0m \u001b[0;34m=\u001b[0m \u001b[0msys\u001b[0m\u001b[0;34m.\u001b[0m\u001b[0margv\u001b[0m\u001b[0;34m[\u001b[0m\u001b[0;36m2\u001b[0m\u001b[0;34m]\u001b[0m\u001b[0;34m\u001b[0m\u001b[0m\n\u001b[0;32m----> 4\u001b[0;31m \u001b[0mdate\u001b[0m \u001b[0;34m=\u001b[0m \u001b[0msys\u001b[0m\u001b[0;34m.\u001b[0m\u001b[0margv\u001b[0m\u001b[0;34m[\u001b[0m\u001b[0;36m3\u001b[0m\u001b[0;34m]\u001b[0m\u001b[0;34m\u001b[0m\u001b[0m\n\u001b[0m\u001b[1;32m      5\u001b[0m \u001b[0mday\u001b[0m \u001b[0;34m=\u001b[0m \u001b[0msys\u001b[0m\u001b[0;34m.\u001b[0m\u001b[0margv\u001b[0m\u001b[0;34m[\u001b[0m\u001b[0;36m4\u001b[0m\u001b[0;34m]\u001b[0m\u001b[0;34m\u001b[0m\u001b[0m\n",
      "\u001b[0;31mIndexError\u001b[0m: list index out of range"
     ]
    }
   ],
   "source": [
    "import sys\n",
    "# zipcode = sys.argv[1]\n",
    "# hour = sys.argv[2]\n",
    "# date = sys.argv[3]\n",
    "# day = sys.argv[4]\n",
    "zipcode = 94129\n",
    "hour = 21\n",
    "date = 24\n",
    "day = 2"
   ]
  },
  {
   "cell_type": "code",
   "execution_count": null,
   "metadata": {},
   "outputs": [],
   "source": []
  }
 ],
 "metadata": {
  "kernelspec": {
   "display_name": "Python 3",
   "language": "python",
   "name": "python3"
  },
  "language_info": {
   "codemirror_mode": {
    "name": "ipython",
    "version": 3
   },
   "file_extension": ".py",
   "mimetype": "text/x-python",
   "name": "python",
   "nbconvert_exporter": "python",
   "pygments_lexer": "ipython3",
   "version": "3.6.3"
  }
 },
 "nbformat": 4,
 "nbformat_minor": 2
}
