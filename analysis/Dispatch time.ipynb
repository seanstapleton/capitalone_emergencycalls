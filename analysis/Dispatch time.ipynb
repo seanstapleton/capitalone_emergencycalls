{
 "cells": [
  {
   "cell_type": "code",
   "execution_count": 1,
   "metadata": {},
   "outputs": [],
   "source": [
    "import pandas as pd\n",
    "import numpy as np"
   ]
  },
  {
   "cell_type": "code",
   "execution_count": 2,
   "metadata": {},
   "outputs": [],
   "source": [
    "df_all = pd.read_csv(\"./data/sfpd_dispatch_data_subset.csv\")\n",
    "df_all[\"received_timestamp\"] = pd.to_datetime(df_all[\"received_timestamp\"])"
   ]
  },
  {
   "cell_type": "code",
   "execution_count": 19,
   "metadata": {},
   "outputs": [
    {
     "data": {
      "text/plain": [
       "Index(['zipcode_of_incident', 'entry_timestamp', 'dispatch_timestamp'], dtype='object')"
      ]
     },
     "execution_count": 19,
     "metadata": {},
     "output_type": "execute_result"
    }
   ],
   "source": [
    "counter_nan = df_all.isnull().sum()\n",
    "counter_no_nan = counter_nan[counter_nan==0]\n",
    "df_cleaned = df_all[counter_no_nan.keys()]\n",
    "kept_keys = ['zipcode_of_incident','entry_timestamp', 'dispatch_timestamp']\n",
    "df_cleaned = df_cleaned[kept_keys]\n",
    "df_cleaned.keys()"
   ]
  },
  {
   "cell_type": "code",
   "execution_count": 20,
   "metadata": {},
   "outputs": [],
   "source": [
    "df_cleaned['entry_timestamp'] = pd.to_datetime(df_cleaned['entry_timestamp'])"
   ]
  },
  {
   "cell_type": "code",
   "execution_count": 21,
   "metadata": {},
   "outputs": [],
   "source": [
    "df_cleaned['dispatch_timestamp'] = pd.to_datetime(df_cleaned['dispatch_timestamp'])"
   ]
  },
  {
   "cell_type": "code",
   "execution_count": 47,
   "metadata": {},
   "outputs": [],
   "source": [
    "df_cleaned.loc[df_cleaned[\"zipcode_of_incident\"] == 94127].to_csv(\"../data.csv\")"
   ]
  },
  {
   "cell_type": "code",
   "execution_count": 22,
   "metadata": {},
   "outputs": [],
   "source": [
    "#extract hour, day, dotw from timestamp\n",
    "full_df = pd.DataFrame()\n",
    "new_data = []\n",
    "# for timestamp1, timestamp2 in zip(df_cleaned[\"entry_timestamp\"], df_cleaned[\"dispatch_timestamp\"]):\n",
    "#     print((timestamp2-timestamp1).minutes)\n",
    "df_cleaned[\"dispatch_time\"] = (df_cleaned[\"dispatch_timestamp\"]-df_cleaned[\"entry_timestamp\"]).astype('timedelta64[s]')\n",
    "    #new_data.append({\"diff\": timestamp2});\n",
    "# new_df = pd.DataFrame(new_data)\n",
    "# full_df = new_df.join(full_df, rsuffix='_next')\n",
    "# df_cleaned = df_cleaned.join(full_df, rsuffix=\"_next\")"
   ]
  },
  {
   "cell_type": "code",
   "execution_count": 25,
   "metadata": {},
   "outputs": [],
   "source": [
    "import geopy as gp\n",
    "from geopy.geocoders import Nominatim\n",
    "geolocator = Nominatim()\n",
    "location = geolocator.geocode(\"48109\")"
   ]
  },
  {
   "cell_type": "code",
   "execution_count": 30,
   "metadata": {},
   "outputs": [],
   "source": [
    "zipcode_map = {}\n",
    "zipcodes = ['94121','94103','94122','94109','94107','94110','94102','94133','94134','94111','94114','94131','94117','94112','94118','94158','94105','94115','94108','94124','94104','94116','94123','94127','94132','94130','94129']\n",
    "for zc in zipcodes:\n",
    "    df_cleaned[\"zipcode\"]"
   ]
  },
  {
   "cell_type": "code",
   "execution_count": 44,
   "metadata": {},
   "outputs": [],
   "source": [
    "newdf = pd.DataFrame(df_cleaned.groupby(\"zipcode_of_incident\")[\"dispatch_time\"].mean())\n",
    "#newdf.to_json(orient='records', path_or_buf=\"../public/data/avg_dispatch.json\")"
   ]
  },
  {
   "cell_type": "code",
   "execution_count": 46,
   "metadata": {},
   "outputs": [
    {
     "data": {
      "text/html": [
       "<div>\n",
       "<style scoped>\n",
       "    .dataframe tbody tr th:only-of-type {\n",
       "        vertical-align: middle;\n",
       "    }\n",
       "\n",
       "    .dataframe tbody tr th {\n",
       "        vertical-align: top;\n",
       "    }\n",
       "\n",
       "    .dataframe thead th {\n",
       "        text-align: right;\n",
       "    }\n",
       "</style>\n",
       "<table border=\"1\" class=\"dataframe\">\n",
       "  <thead>\n",
       "    <tr style=\"text-align: right;\">\n",
       "      <th></th>\n",
       "      <th>dispatch_time</th>\n",
       "    </tr>\n",
       "    <tr>\n",
       "      <th>zipcode_of_incident</th>\n",
       "      <th></th>\n",
       "    </tr>\n",
       "  </thead>\n",
       "  <tbody>\n",
       "    <tr>\n",
       "      <th>94102</th>\n",
       "      <td>67.731255</td>\n",
       "    </tr>\n",
       "    <tr>\n",
       "      <th>94103</th>\n",
       "      <td>81.430182</td>\n",
       "    </tr>\n",
       "    <tr>\n",
       "      <th>94104</th>\n",
       "      <td>75.160000</td>\n",
       "    </tr>\n",
       "    <tr>\n",
       "      <th>94105</th>\n",
       "      <td>102.554455</td>\n",
       "    </tr>\n",
       "    <tr>\n",
       "      <th>94107</th>\n",
       "      <td>77.943152</td>\n",
       "    </tr>\n",
       "    <tr>\n",
       "      <th>94108</th>\n",
       "      <td>96.033195</td>\n",
       "    </tr>\n",
       "    <tr>\n",
       "      <th>94109</th>\n",
       "      <td>70.954315</td>\n",
       "    </tr>\n",
       "    <tr>\n",
       "      <th>94110</th>\n",
       "      <td>72.933417</td>\n",
       "    </tr>\n",
       "    <tr>\n",
       "      <th>94111</th>\n",
       "      <td>95.903061</td>\n",
       "    </tr>\n",
       "    <tr>\n",
       "      <th>94112</th>\n",
       "      <td>78.327394</td>\n",
       "    </tr>\n",
       "    <tr>\n",
       "      <th>94114</th>\n",
       "      <td>69.142105</td>\n",
       "    </tr>\n",
       "    <tr>\n",
       "      <th>94115</th>\n",
       "      <td>56.114865</td>\n",
       "    </tr>\n",
       "    <tr>\n",
       "      <th>94116</th>\n",
       "      <td>62.958716</td>\n",
       "    </tr>\n",
       "    <tr>\n",
       "      <th>94117</th>\n",
       "      <td>76.195980</td>\n",
       "    </tr>\n",
       "    <tr>\n",
       "      <th>94118</th>\n",
       "      <td>67.367857</td>\n",
       "    </tr>\n",
       "    <tr>\n",
       "      <th>94121</th>\n",
       "      <td>57.869159</td>\n",
       "    </tr>\n",
       "    <tr>\n",
       "      <th>94122</th>\n",
       "      <td>63.101852</td>\n",
       "    </tr>\n",
       "    <tr>\n",
       "      <th>94123</th>\n",
       "      <td>77.484375</td>\n",
       "    </tr>\n",
       "    <tr>\n",
       "      <th>94124</th>\n",
       "      <td>90.091440</td>\n",
       "    </tr>\n",
       "    <tr>\n",
       "      <th>94127</th>\n",
       "      <td>1778.022222</td>\n",
       "    </tr>\n",
       "    <tr>\n",
       "      <th>94129</th>\n",
       "      <td>153.454545</td>\n",
       "    </tr>\n",
       "    <tr>\n",
       "      <th>94130</th>\n",
       "      <td>150.915254</td>\n",
       "    </tr>\n",
       "    <tr>\n",
       "      <th>94131</th>\n",
       "      <td>84.263415</td>\n",
       "    </tr>\n",
       "    <tr>\n",
       "      <th>94132</th>\n",
       "      <td>60.271357</td>\n",
       "    </tr>\n",
       "    <tr>\n",
       "      <th>94133</th>\n",
       "      <td>124.284153</td>\n",
       "    </tr>\n",
       "    <tr>\n",
       "      <th>94134</th>\n",
       "      <td>154.680000</td>\n",
       "    </tr>\n",
       "    <tr>\n",
       "      <th>94158</th>\n",
       "      <td>50.000000</td>\n",
       "    </tr>\n",
       "  </tbody>\n",
       "</table>\n",
       "</div>"
      ],
      "text/plain": [
       "                     dispatch_time\n",
       "zipcode_of_incident               \n",
       "94102                    67.731255\n",
       "94103                    81.430182\n",
       "94104                    75.160000\n",
       "94105                   102.554455\n",
       "94107                    77.943152\n",
       "94108                    96.033195\n",
       "94109                    70.954315\n",
       "94110                    72.933417\n",
       "94111                    95.903061\n",
       "94112                    78.327394\n",
       "94114                    69.142105\n",
       "94115                    56.114865\n",
       "94116                    62.958716\n",
       "94117                    76.195980\n",
       "94118                    67.367857\n",
       "94121                    57.869159\n",
       "94122                    63.101852\n",
       "94123                    77.484375\n",
       "94124                    90.091440\n",
       "94127                  1778.022222\n",
       "94129                   153.454545\n",
       "94130                   150.915254\n",
       "94131                    84.263415\n",
       "94132                    60.271357\n",
       "94133                   124.284153\n",
       "94134                   154.680000\n",
       "94158                    50.000000"
      ]
     },
     "execution_count": 46,
     "metadata": {},
     "output_type": "execute_result"
    }
   ],
   "source": [
    "newdf"
   ]
  },
  {
   "cell_type": "code",
   "execution_count": null,
   "metadata": {},
   "outputs": [],
   "source": []
  }
 ],
 "metadata": {
  "kernelspec": {
   "display_name": "Python 3",
   "language": "python",
   "name": "python3"
  },
  "language_info": {
   "codemirror_mode": {
    "name": "ipython",
    "version": 3
   },
   "file_extension": ".py",
   "mimetype": "text/x-python",
   "name": "python",
   "nbconvert_exporter": "python",
   "pygments_lexer": "ipython3",
   "version": "3.6.3"
  }
 },
 "nbformat": 4,
 "nbformat_minor": 2
}
