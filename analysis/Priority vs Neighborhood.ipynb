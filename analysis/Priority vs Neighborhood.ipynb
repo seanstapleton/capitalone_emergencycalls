{
 "cells": [
  {
   "cell_type": "code",
   "execution_count": 1,
   "metadata": {},
   "outputs": [],
   "source": [
    "import pandas as pd\n",
    "import numpy as np"
   ]
  },
  {
   "cell_type": "code",
   "execution_count": 2,
   "metadata": {},
   "outputs": [],
   "source": [
    "#load in data from CSV file\n",
    "df_all = pd.read_csv(\"./data/sfpd_dispatch_data_subset.csv\")\n",
    "df_all[\"received_timestamp\"] = pd.to_datetime(df_all[\"received_timestamp\"])"
   ]
  },
  {
   "cell_type": "code",
   "execution_count": 3,
   "metadata": {},
   "outputs": [
    {
     "data": {
      "text/plain": [
       "Index(['priority', 'supervisor_district'], dtype='object')"
      ]
     },
     "execution_count": 3,
     "metadata": {},
     "output_type": "execute_result"
    }
   ],
   "source": [
    "#remove columns with null values\n",
    "counter_nan = df_all.isnull().sum()\n",
    "counter_no_nan = counter_nan[counter_nan==0]\n",
    "df_cleaned = df_all[counter_no_nan.keys()]\n",
    "#reduce dataframe to specific columns\n",
    "kept_keys = ['priority', 'supervisor_district']\n",
    "df_cleaned = df_cleaned[kept_keys]\n",
    "df_cleaned.keys()"
   ]
  },
  {
   "cell_type": "code",
   "execution_count": null,
   "metadata": {},
   "outputs": [],
   "source": []
  },
  {
   "cell_type": "code",
   "execution_count": 5,
   "metadata": {},
   "outputs": [],
   "source": [
    "dotw_mapping = {\n",
    "    0: 'Monday',\n",
    "    1: 'Tuesday',\n",
    "    2: 'Wednesday',\n",
    "    3: 'Thursday',\n",
    "    4: 'Friday',\n",
    "    5: 'Saturday',\n",
    "    6: 'Sunday'\n",
    "}\n",
    "unit_type_mapping = {\n",
    "    'CHIEF': 0,\n",
    "    'ENGINE': 1,\n",
    "    'INVESTIGATION': 2,\n",
    "    'MEDIC': 3,\n",
    "    'PRIVATE': 4,\n",
    "    'RESCUE CAPTAIN': 5,\n",
    "    'RESCUE SQUAD': 6,\n",
    "    'SUPPORT': 7,\n",
    "    'TRUCK': 8\n",
    "}"
   ]
  },
  {
   "cell_type": "code",
   "execution_count": 6,
   "metadata": {},
   "outputs": [],
   "source": [
    "df_cleaned = df_cleaned.replace({'unit_type': unit_type_mapping})"
   ]
  },
  {
   "cell_type": "code",
   "execution_count": 4,
   "metadata": {},
   "outputs": [],
   "source": [
    "df_cleaned.to_json(orient='records', path_or_buf='../public/data/priority_vs_neighborhood_calls.json')"
   ]
  },
  {
   "cell_type": "code",
   "execution_count": null,
   "metadata": {},
   "outputs": [],
   "source": []
  },
  {
   "cell_type": "code",
   "execution_count": null,
   "metadata": {},
   "outputs": [],
   "source": []
  }
 ],
 "metadata": {
  "kernelspec": {
   "display_name": "Python 3",
   "language": "python",
   "name": "python3"
  },
  "language_info": {
   "codemirror_mode": {
    "name": "ipython",
    "version": 3
   },
   "file_extension": ".py",
   "mimetype": "text/x-python",
   "name": "python",
   "nbconvert_exporter": "python",
   "pygments_lexer": "ipython3",
   "version": "3.6.3"
  }
 },
 "nbformat": 4,
 "nbformat_minor": 2
}
