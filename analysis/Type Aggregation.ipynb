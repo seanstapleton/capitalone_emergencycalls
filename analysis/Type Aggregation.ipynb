{
 "cells": [
  {
   "cell_type": "code",
   "execution_count": 1,
   "metadata": {},
   "outputs": [],
   "source": [
    "import pandas as pd\n",
    "import numpy as np"
   ]
  },
  {
   "cell_type": "code",
   "execution_count": 2,
   "metadata": {},
   "outputs": [],
   "source": [
    "#load in data from CSV file\n",
    "df_all = pd.read_csv(\"./data/sfpd_dispatch_data_subset.csv\")\n",
    "df_all[\"received_timestamp\"] = pd.to_datetime(df_all[\"received_timestamp\"])"
   ]
  },
  {
   "cell_type": "code",
   "execution_count": 4,
   "metadata": {},
   "outputs": [
    {
     "data": {
      "text/plain": [
       "Index(['call_final_disposition'], dtype='object')"
      ]
     },
     "execution_count": 4,
     "metadata": {},
     "output_type": "execute_result"
    }
   ],
   "source": [
    "#remove columns with null entries\n",
    "counter_nan = df_all.isnull().sum()\n",
    "counter_no_nan = counter_nan[counter_nan==0]\n",
    "df_cleaned = df_all[counter_no_nan.keys()]\n",
    "#reduce dataframe to specific columns\n",
    "kept_keys = ['call_final_disposition']\n",
    "df_cleaned = df_cleaned[kept_keys]\n",
    "df_cleaned.keys()"
   ]
  },
  {
   "cell_type": "code",
   "execution_count": 13,
   "metadata": {},
   "outputs": [
    {
     "data": {
      "text/plain": [
       "{'Against Medical Advice': 210,\n",
       " 'Cancelled': 207,\n",
       " 'Code 2 Transport': 5038,\n",
       " 'Code 3 Transport': 495,\n",
       " 'Fire': 2639,\n",
       " 'Gone on Arrival': 40,\n",
       " 'Medical Examiner': 172,\n",
       " 'No Merit': 403,\n",
       " 'Other': 74,\n",
       " 'Patient Declined Transport': 486,\n",
       " 'SFPD': 60,\n",
       " 'Unable to Locate': 164}"
      ]
     },
     "execution_count": 13,
     "metadata": {},
     "output_type": "execute_result"
    }
   ],
   "source": [
    "disps = df_cleaned[\"call_final_disposition\"].values\n",
    "counts = {}\n",
    "for disp in disps:\n",
    "    if disp in counts:\n",
    "        counts[disp] += 1\n",
    "    else:\n",
    "        counts[disp] = 0"
   ]
  },
  {
   "cell_type": "code",
   "execution_count": 17,
   "metadata": {},
   "outputs": [],
   "source": [
    "freqs = pd.DataFrame([counts])"
   ]
  },
  {
   "cell_type": "code",
   "execution_count": 18,
   "metadata": {},
   "outputs": [],
   "source": [
    "freqs.to_json(orient='records', path_or_buf='../public/data/type_frequencies.json')"
   ]
  },
  {
   "cell_type": "code",
   "execution_count": 7,
   "metadata": {},
   "outputs": [],
   "source": []
  },
  {
   "cell_type": "code",
   "execution_count": null,
   "metadata": {},
   "outputs": [],
   "source": []
  },
  {
   "cell_type": "code",
   "execution_count": null,
   "metadata": {},
   "outputs": [],
   "source": []
  }
 ],
 "metadata": {
  "kernelspec": {
   "display_name": "Python 3",
   "language": "python",
   "name": "python3"
  },
  "language_info": {
   "codemirror_mode": {
    "name": "ipython",
    "version": 3
   },
   "file_extension": ".py",
   "mimetype": "text/x-python",
   "name": "python",
   "nbconvert_exporter": "python",
   "pygments_lexer": "ipython3",
   "version": "3.6.3"
  }
 },
 "nbformat": 4,
 "nbformat_minor": 2
}
